{
 "cells": [
  {
   "cell_type": "code",
   "execution_count": 10,
   "metadata": {},
   "outputs": [],
   "source": [
    "from SDT import *\n",
    "import numpy\n",
    "import matplotlib.pyplot as plt\n",
    "from ipywidgets import interact, interactive, fixed, interact_manual\n",
    "import ipywidgets as widgets"
   ]
  },
  {
   "cell_type": "markdown",
   "metadata": {},
   "source": [
    "Number of samples = 1000\n",
    "Standard Normal distribution for noise distributions. \n",
    "\n",
    "These variables are initialized in SDT.py imported here"
   ]
  },
  {
   "cell_type": "code",
   "execution_count": null,
   "metadata": {},
   "outputs": [],
   "source": []
  },
  {
   "cell_type": "code",
   "execution_count": null,
   "metadata": {},
   "outputs": [],
   "source": []
  },
  {
   "cell_type": "code",
   "execution_count": 11,
   "metadata": {},
   "outputs": [],
   "source": [
    "def dp(num_samples, d_, signal_sd, lamb, recall_prob):\n",
    "    sdt_fa, sdt_hit = sdt(num_samples, d_, signal_sd, lamb)\n",
    "    dp_hit = sdt_hit + recall_prob - (sdt_hit*recall_prob)\n",
    "    dp_fa = sdt_fa - (sdt_fa*recall_prob)\n",
    "    \n",
    "    return (dp_fa, dp_hit)\n"
   ]
  },
  {
   "cell_type": "markdown",
   "metadata": {},
   "source": [
    "For the Dual Process model, used noise distribution's standard deviation as signal distribution's standard deviation. \n",
    "\n"
   ]
  },
  {
   "cell_type": "code",
   "execution_count": 12,
   "metadata": {},
   "outputs": [],
   "source": [
    "def roc_plot_dp(d_, recall_prob):\n",
    "    for lamb in numpy.linspace(0, d_+2*noise_sd, 100):\n",
    "        fa, h = dp(num_samples, d_, noise_sd, lamb, recall_prob)\n",
    "        plt.scatter(fa, h)\n",
    "        plt.xlabel(\"False Alarm Rate\")\n",
    "        plt.ylabel(\"Hit Rate\")\n"
   ]
  },
  {
   "cell_type": "code",
   "execution_count": null,
   "metadata": {},
   "outputs": [],
   "source": []
  },
  {
   "cell_type": "code",
   "execution_count": 13,
   "metadata": {},
   "outputs": [
    {
     "data": {
      "application/vnd.jupyter.widget-view+json": {
       "model_id": "3756cf4a20324ba595d7838acd9d3741",
       "version_major": 2,
       "version_minor": 0
      },
      "text/plain": [
       "interactive(children=(FloatSlider(value=2.0, description='d_', max=4.0), FloatSlider(value=0.0, description='r…"
      ]
     },
     "metadata": {},
     "output_type": "display_data"
    },
    {
     "data": {
      "application/vnd.jupyter.widget-view+json": {
       "model_id": "7a28ea6654574e43af222e4b30354c4f",
       "version_major": 2,
       "version_minor": 0
      },
      "text/plain": [
       "interactive(children=(FloatSlider(value=2.0, description='d_', max=4.0), FloatSlider(value=2.5000000000000004,…"
      ]
     },
     "metadata": {},
     "output_type": "display_data"
    },
    {
     "data": {
      "text/plain": [
       "<function SDT.roc_plot(d_, signal_sd)>"
      ]
     },
     "execution_count": 13,
     "metadata": {},
     "output_type": "execute_result"
    }
   ],
   "source": [
    "interact(roc_plot_dp, d_=(0, 4, 0.1), recall_prob = (0, 1, 0.1))\n",
    "interact(roc_plot, d_ = (0, 4, 0.1), signal_sd = (0.1, 5, 0.1))"
   ]
  },
  {
   "cell_type": "code",
   "execution_count": null,
   "metadata": {},
   "outputs": [],
   "source": []
  }
 ],
 "metadata": {
  "kernelspec": {
   "display_name": "Python 3",
   "language": "python",
   "name": "python3"
  },
  "language_info": {
   "codemirror_mode": {
    "name": "ipython",
    "version": 3
   },
   "file_extension": ".py",
   "mimetype": "text/x-python",
   "name": "python",
   "nbconvert_exporter": "python",
   "pygments_lexer": "ipython3",
   "version": "3.7.0"
  }
 },
 "nbformat": 4,
 "nbformat_minor": 2
}
