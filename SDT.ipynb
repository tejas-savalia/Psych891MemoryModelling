{
 "cells": [
  {
   "cell_type": "markdown",
   "metadata": {},
   "source": [
    "# Signal Detection Theory"
   ]
  },
  {
   "cell_type": "code",
   "execution_count": 1,
   "metadata": {},
   "outputs": [],
   "source": [
    "import numpy\n",
    "import matplotlib.pyplot as plt"
   ]
  },
  {
   "cell_type": "markdown",
   "metadata": {},
   "source": [
    "Initialize Global variables. "
   ]
  },
  {
   "cell_type": "code",
   "execution_count": 2,
   "metadata": {},
   "outputs": [],
   "source": [
    "num_samples = 1000\n",
    "noise_mean = 0\n",
    "noise_sd = 1"
   ]
  },
  {
   "cell_type": "markdown",
   "metadata": {},
   "source": [
    "Function to return false alarm and hit rates. Takes in the number of samples, d-prime, signal's standard deviation and the criterion. Assumes standard normal for noise distribution."
   ]
  },
  {
   "cell_type": "code",
   "execution_count": 13,
   "metadata": {},
   "outputs": [],
   "source": [
    "def sdt(num_samples, d_, signal_sd, lamb):\n",
    "    fa_rate = (float)(numpy.sum(numpy.random.normal(noise_mean, noise_sd, num_samples)>lamb))/num_samples\n",
    "    hit_rate = (float)(numpy.sum(numpy.random.normal(d_, signal_sd, num_samples)>lamb))/num_samples\n",
    "    return (fa_rate, hit_rate)"
   ]
  },
  {
   "cell_type": "code",
   "execution_count": 3,
   "metadata": {},
   "outputs": [],
   "source": [
    "def sdt(num_samples, d_, signal_sd, lamb):\n",
    "    fa_rate = (float)(numpy.sum(numpy.random.exponential(noise_mean, num_samples)>lamb))/num_samples\n",
    "    hit_rate = (float)(numpy.sum(numpy.random.exponential(d_, num_samples)>lamb))/num_samples\n",
    "    return (fa_rate, hit_rate)"
   ]
  },
  {
   "cell_type": "markdown",
   "metadata": {},
   "source": [
    "Plotting!. Calls the sdt function to obtain hit and false alarm rates. Runs through a range of criterion values to plot the ROC curve."
   ]
  },
  {
   "cell_type": "code",
   "execution_count": 4,
   "metadata": {},
   "outputs": [],
   "source": [
    "def roc_plot(d_, signal_sd):\n",
    "    for lamb in numpy.linspace(0, d_+signal_sd, 100):\n",
    "        fa, h = sdt(num_samples, d_, signal_sd, lamb)\n",
    "        plt.scatter(fa, h)\n",
    "        plt.xlabel(\"False Alarm Rate\")\n",
    "        plt.ylabel(\"Hit Rate\")\n"
   ]
  },
  {
   "cell_type": "code",
   "execution_count": 8,
   "metadata": {},
   "outputs": [
    {
     "data": {
      "image/png": "[encoded data removed]",
      "text/plain": [
       "<Figure size 432x288 with 1 Axes>"
      ]
     },
     "metadata": {
      "needs_background": "light"
     },
     "output_type": "display_data"
    }
   ],
   "source": [
    "roc_plot(0.3, 1)"
   ]
  },
  {
   "cell_type": "code",
   "execution_count": 16,
   "metadata": {},
   "outputs": [],
   "source": [
    "from ipywidgets import interact, interactive, fixed, interact_manual\n",
    "import ipywidgets as widgets"
   ]
  },
  {
   "cell_type": "markdown",
   "metadata": {},
   "source": [
    "\n",
    "### interact takes in the function and arguments to that function passed as range to use them as slider-widgets\n",
    "\n"
   ]
  },
  {
   "cell_type": "code",
   "execution_count": 18,
   "metadata": {},
   "outputs": [
    {
     "data": {
      "application/vnd.jupyter.widget-view+json": {
       "model_id": "2de7707eb4f847719ee08cf8567e649a",
       "version_major": 2,
       "version_minor": 0
      },
      "text/plain": [
       "interactive(children=(FloatSlider(value=0.0, description='d_', max=4.0, min=-3.0), FloatSlider(value=2.2, desc…"
      ]
     },
     "metadata": {},
     "output_type": "display_data"
    },
    {
     "data": {
      "text/plain": [
       "<function __main__.roc_plot(d_, signal_sd)>"
      ]
     },
     "execution_count": 18,
     "metadata": {},
     "output_type": "execute_result"
    }
   ],
   "source": [
    "interact(roc_plot, d_=(-3, 4, 0.1), signal_sd = (0.5, 4, 0.1))\n",
    "\n"
   ]
  }
 ],
 "metadata": {
  "kernelspec": {
   "display_name": "Python 3",
   "language": "python",
   "name": "python3"
  },
  "language_info": {
   "codemirror_mode": {
    "name": "ipython",
    "version": 3
   },
   "file_extension": ".py",
   "mimetype": "text/x-python",
   "name": "python",
   "nbconvert_exporter": "python",
   "pygments_lexer": "ipython3",
   "version": "3.7.0"
  }
 },
 "nbformat": 4,
 "nbformat_minor": 2
}
