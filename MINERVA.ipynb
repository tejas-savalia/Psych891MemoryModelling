{
 "cells": [
  {
   "cell_type": "code",
   "execution_count": 2,
   "metadata": {},
   "outputs": [],
   "source": [
    "import numpy\n",
    "import matplotlib.pyplot as plt"
   ]
  },
  {
   "cell_type": "code",
   "execution_count": 58,
   "metadata": {},
   "outputs": [],
   "source": [
    "num_features = 20\n",
    "num_items = 20\n",
    "num_new = 4\n",
    "num_trials = 60\n",
    "items = numpy.zeros((num_items+num_new, num_features))\n",
    "secondary_memory = numpy.zeros((num_trials, num_features)) \n",
    "L = 0.9"
   ]
  },
  {
   "cell_type": "code",
   "execution_count": 148,
   "metadata": {},
   "outputs": [],
   "source": [
    "def memory(L):\n",
    "    for i in range(num_items + num_new):\n",
    "        items[i, ] = numpy.random.choice([-1, 0, 1], num_features)\n",
    "\n",
    "\n",
    "    present = items\n",
    "    for j in range(num_items):\n",
    "        present = numpy.row_stack((present, numpy.tile(items[j,], ((j%5)+1, 1))))\n",
    "\n",
    "    #for j in range(num_items):\n",
    "\n",
    "\n",
    "    #present[24]\n",
    "\n",
    "    for i in range(num_trials):\n",
    "        event = present[i]\n",
    "        for j in range(len(event)):\n",
    "            if numpy.random.uniform(high=1, low=0) < L:\n",
    "                secondary_memory[i, j] = event[j]\n",
    "            else:\n",
    "                secondary_memory[i, j] = 0\n",
    "    test_probe0 = numpy.row_stack((present[20, ], present[21, ], present[22, ], present[23, ]))\n",
    "    test_probe1 = numpy.row_stack((present[24, ], present[39, ], present[54, ], present[69, ]))\n",
    "    test_probe2 = numpy.row_stack((present[25, ], present[40, ], present[55, ], present[70, ]))\n",
    "\n",
    "    return secondary_memory, test_probe0, test_probe1, test_probe2"
   ]
  },
  {
   "cell_type": "code",
   "execution_count": 149,
   "metadata": {},
   "outputs": [],
   "source": [
    "def hist_plot(secondarry_memory, probe):\n",
    "    sum_array = numpy.sum(numpy.logical_or(probe[0], secondary_memory), axis = 1)\n",
    "    similarity_trace = numpy.dot(secondary_memory, probe[0])/sum_array\n",
    "    A = similarity_trace**3\n",
    "    I = sum(A)\n",
    "    return I"
   ]
  },
  {
   "cell_type": "code",
   "execution_count": 153,
   "metadata": {},
   "outputs": [
    {
     "data": {
      "text/plain": [
       "(array([  5.,  10.,  40., 212., 485., 203.,  37.,   6.,   1.,   1.]),\n",
       " array([1.51598967, 1.83154711, 2.14710454, 2.46266197, 2.77821941,\n",
       "        3.09377684, 3.40933428, 3.72489171, 4.04044914, 4.35600658,\n",
       "        4.67156401]),\n",
       " <a list of 10 Patch objects>)"
      ]
     },
     "execution_count": 153,
     "metadata": {},
     "output_type": "execute_result"
    },
    {
     "data": {
      "image/png": "[encoded data removed]",
      "text/plain": [
       "<Figure size 432x288 with 1 Axes>"
      ]
     },
     "metadata": {
      "needs_background": "light"
     },
     "output_type": "display_data"
    }
   ],
   "source": [
    "I0 = list()\n",
    "I1 = list()\n",
    "I2 = list()\n",
    "for i in range(1000):\n",
    "    secondary_memory, probe0, probe1, probe2 = memory(0.99)\n",
    "    I0.append(hist_plot(secondary_memory, probe0))\n",
    "    I1.append(hist_plot(secondary_memory, probe1))\n",
    "    I2.append(hist_plot(secondary_memory, probe2))\n",
    "\n",
    "plt.hist(I0)\n",
    "plt.hist(I1)\n",
    "plt.hist(I2)"
   ]
  },
  {
   "cell_type": "code",
   "execution_count": 142,
   "metadata": {},
   "outputs": [
    {
     "data": {
      "text/plain": [
       "(array([ 1.,  0.,  1.,  9., 22., 30., 23.,  8.,  3.,  3.]),\n",
       " array([-0.44831706, -0.3239996 , -0.19968213, -0.07536467,  0.04895279,\n",
       "         0.17327026,  0.29758772,  0.42190518,  0.54622265,  0.67054011,\n",
       "         0.79485758]),\n",
       " <a list of 10 Patch objects>)"
      ]
     },
     "execution_count": 142,
     "metadata": {},
     "output_type": "execute_result"
    },
    {
     "data": {
      "image/png": "[encoded data removed]",
      "text/plain": [
       "<Figure size 432x288 with 1 Axes>"
      ]
     },
     "metadata": {
      "needs_background": "light"
     },
     "output_type": "display_data"
    }
   ],
   "source": [
    "I = list()\n",
    "for i in range(100):\n",
    "    secondary_memory, probe0, probe1 = memory(0.5)\n",
    "    I.append(hist_plot(secondary_memory, probe1))\n",
    "plt.hist(I)"
   ]
  }
 ],
 "metadata": {
  "kernelspec": {
   "display_name": "Python 3",
   "language": "python",
   "name": "python3"
  },
  "language_info": {
   "codemirror_mode": {
    "name": "ipython",
    "version": 3
   },
   "file_extension": ".py",
   "mimetype": "text/x-python",
   "name": "python",
   "nbconvert_exporter": "python",
   "pygments_lexer": "ipython3",
   "version": "3.7.0"
  }
 },
 "nbformat": 4,
 "nbformat_minor": 2
}
